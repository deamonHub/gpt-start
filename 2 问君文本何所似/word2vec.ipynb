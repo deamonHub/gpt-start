{
 "cells": [
  {
   "cell_type": "markdown",
   "metadata": {},
   "source": [
    "Skip-Gram模型"
   ]
  },
  {
   "cell_type": "code",
   "execution_count": 7,
   "metadata": {},
   "outputs": [
    {
     "name": "stdout",
     "output_type": "stream",
     "text": [
      "词汇表： ['Student', 'Kage', 'Xiaobing', 'is', 'Mazong', 'Xiaoxue', 'Boss', 'Niuzong', 'Teacher']\n",
      "词汇到索引的字典： {'Student': 0, 'Kage': 1, 'Xiaobing': 2, 'is': 3, 'Mazong': 4, 'Xiaoxue': 5, 'Boss': 6, 'Niuzong': 7, 'Teacher': 8}\n",
      "索引到词汇的字典： {0: 'Student', 1: 'Kage', 2: 'Xiaobing', 3: 'is', 4: 'Mazong', 5: 'Xiaoxue', 6: 'Boss', 7: 'Niuzong', 8: 'Teacher'}\n",
      "词汇表大小： 9\n"
     ]
    }
   ],
   "source": [
    "#定义一个句子列表，来训练CBOW和Skip-Gram模型\n",
    "sentences = ['Kage is Teacher','Mazong is Boss', 'Niuzong is Boss', 'Xiaobing is Student', 'Xiaoxue is Student']\n",
    "#所有句子连接，空格分割成多个单词\n",
    "words = ' '.join(sentences).split()\n",
    "#去重\n",
    "words = list(set(words))\n",
    "#创建字典，每个词映射到一个唯一的索引\n",
    "word_to_idx = {word: idx for idx, word in enumerate(words)}\n",
    "#创建索引，每个索引映射到一个唯一的词\n",
    "idx_to_word = {idx: word for idx, word in enumerate(words)}\n",
    "voc_size = len(words)\n",
    "print(\"词汇表：\", words)\n",
    "print(\"词汇到索引的字典：\", word_to_idx)\n",
    "print(\"索引到词汇的字典：\", idx_to_word)\n",
    "print(\"词汇表大小：\", voc_size)"
   ]
  },
  {
   "cell_type": "code",
   "execution_count": 8,
   "metadata": {},
   "outputs": [
    {
     "name": "stdout",
     "output_type": "stream",
     "text": [
      "['Kage', 'is', 'Teacher']\n",
      "['Mazong', 'is', 'Boss']\n",
      "['Niuzong', 'is', 'Boss']\n",
      "['Xiaobing', 'is', 'Student']\n",
      "['Xiaoxue', 'is', 'Student']\n",
      "Skip-Gram数据样例（未编码）： [('is', 'Kage'), ('Teacher', 'Kage'), ('Kage', 'is')]\n"
     ]
    }
   ],
   "source": [
    "#生成Skip-Gram数据\n",
    "def create_skipgram_dataset(sentences, window_size=2):\n",
    "    data = []\n",
    "    for sentence in sentences:\n",
    "        sentence = sentence.split() #  把句子分割成单词列表\n",
    "        # print(sentence)\n",
    "        for idx,word in enumerate(sentence): #遍历单词和索引\n",
    "            #获取相邻单词，将当前单词前后各N个单词作为相邻单词\n",
    "            for neighbor in sentence[max(idx - window_size, 0):min(idx+window_size+1,len(sentence))]:\n",
    "                if neighbor != word: #排除当前单词本身\n",
    "                    #将相邻单词与当前单词作为一组训练数据\n",
    "                    data.append((neighbor,word))\n",
    "    return data\n",
    "skipgaram_data = create_skipgram_dataset(sentences)\n",
    "print(\"Skip-Gram数据样例（未编码）：\",skipgaram_data[:3])\n",
    "            "
   ]
  },
  {
   "cell_type": "code",
   "execution_count": 18,
   "metadata": {},
   "outputs": [
    {
     "name": "stdout",
     "output_type": "stream",
     "text": [
      "before:  Teacher\n",
      "after:  tensor([0., 0., 0., 0., 0., 0., 0., 0., 1.])\n",
      "Skip-Gram 数据样例（已编码）： [(tensor([0., 0., 0., 1., 0., 0., 0., 0., 0.]), 1), (tensor([0., 0., 0., 0., 0., 0., 0., 0., 1.]), 1), (tensor([0., 1., 0., 0., 0., 0., 0., 0., 0.]), 3)]\n"
     ]
    }
   ],
   "source": [
    "#定义 One-Hot编码函数\n",
    "import torch\n",
    "def one_hot_encoding(word, word_to_idx):\n",
    "    tensor = torch.zeros(len(word_to_idx)) # 创建一个长度与词汇表相同的全0张量\n",
    "    tensor[word_to_idx[word]] = 1 \n",
    "    return tensor\n",
    "#展示 One-Hot编码前后的数据\n",
    "word_example = 'Teacher'\n",
    "print(\"before: \" ,word_example)\n",
    "print(\"after: \", one_hot_encoding(word_example,word_to_idx))\n",
    "#展示编码后的Skip-Gram训练数据样例\n",
    "print(\"Skip-Gram 数据样例（已编码）：\", [(one_hot_encoding(context,word_to_idx),\n",
    "    word_to_idx[target]) for context, target in skipgaram_data[:3]])"
   ]
  },
  {
   "cell_type": "code",
   "execution_count": null,
   "metadata": {},
   "outputs": [],
   "source": []
  }
 ],
 "metadata": {
  "kernelspec": {
   "display_name": "base",
   "language": "python",
   "name": "python3"
  },
  "language_info": {
   "codemirror_mode": {
    "name": "ipython",
    "version": 3
   },
   "file_extension": ".py",
   "mimetype": "text/x-python",
   "name": "python",
   "nbconvert_exporter": "python",
   "pygments_lexer": "ipython3",
   "version": "3.10.14"
  }
 },
 "nbformat": 4,
 "nbformat_minor": 2
}
